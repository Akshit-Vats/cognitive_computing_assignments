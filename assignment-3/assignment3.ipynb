{
  "metadata": {
    "kernelspec": {
      "name": "python",
      "display_name": "Python (Pyodide)",
      "language": "python"
    },
    "language_info": {
      "codemirror_mode": {
        "name": "python",
        "version": 3
      },
      "file_extension": ".py",
      "mimetype": "text/x-python",
      "name": "python",
      "nbconvert_exporter": "python",
      "pygments_lexer": "ipython3",
      "version": "3.8"
    }
  },
  "nbformat_minor": 5,
  "nbformat": 4,
  "cells": [
    {
      "id": "bc396b0b-9ef9-4bb2-9e7b-c44988550ad8",
      "cell_type": "code",
      "source": "import pandas as pd\ndata = {\n    'Tid' : [1,2,3,4,5,6,7,8,9,10],\n    'Refund' : ['Yes','No','No','Yes','No','No','Yes','No','No','No'],\n    'Marital-Status' : ['Single','Married','Single','Married','Divorced','Married','Divorced','Single','Married','Single'],\n    'Taxable-Income' : [125000,100000,70000,120000,95000,60000,220000,85000,75000,90000],\n    'Cheat' : ['No','No','No','No','Yes','No','No','Yes','No','Yes']\n}\ndataset= pd.DataFrame(data)\nprint(dataset)",
      "metadata": {
        "trusted": true
      },
      "outputs": [
        {
          "name": "stdout",
          "output_type": "stream",
          "text": "   Tid Refund Marital-Status  Taxable-Income Cheat\n0    1    Yes         Single          125000    No\n1    2     No        Married          100000    No\n2    3     No         Single           70000    No\n3    4    Yes        Married          120000    No\n4    5     No       Divorced           95000   Yes\n5    6     No        Married           60000    No\n6    7    Yes       Divorced          220000    No\n7    8     No         Single           85000   Yes\n8    9     No        Married           75000    No\n9   10     No         Single           90000   Yes\n"
        }
      ],
      "execution_count": 1
    },
    {
      "id": "327cd060-1d39-4247-b4b0-2cdc6bf5a841",
      "cell_type": "code",
      "source": "row=dataset.iloc[[0,4,7,8]]\nprint(row)",
      "metadata": {
        "trusted": true
      },
      "outputs": [
        {
          "name": "stdout",
          "output_type": "stream",
          "text": "   Tid Refund Marital-Status  Taxable-Income Cheat\n0    1    Yes         Single          125000    No\n4    5     No       Divorced           95000   Yes\n7    8     No         Single           85000   Yes\n8    9     No        Married           75000    No\n"
        }
      ],
      "execution_count": 2
    },
    {
      "id": "23ff316d-b3c3-48c4-a279-8978348be669",
      "cell_type": "code",
      "source": "Q31rows=dataset.iloc[3:8]   \nprint(Q31rows)",
      "metadata": {
        "trusted": true
      },
      "outputs": [
        {
          "name": "stdout",
          "output_type": "stream",
          "text": "   Tid Refund Marital-Status  Taxable-Income Cheat\n3    4    Yes        Married          120000    No\n4    5     No       Divorced           95000   Yes\n5    6     No        Married           60000    No\n6    7    Yes       Divorced          220000    No\n7    8     No         Single           85000   Yes\n"
        }
      ],
      "execution_count": 3
    },
    {
      "id": "8451fabd-e6bf-4fec-a457-e322a35dd454",
      "cell_type": "code",
      "source": "Q32rows = dataset.iloc[4:9,2:5]  \nprint(Q32rows)",
      "metadata": {
        "trusted": true
      },
      "outputs": [
        {
          "name": "stdout",
          "output_type": "stream",
          "text": "  Marital-Status  Taxable-Income Cheat\n4       Divorced           95000   Yes\n5        Married           60000    No\n6       Divorced          220000    No\n7         Single           85000   Yes\n8        Married           75000    No\n"
        }
      ],
      "execution_count": 4
    },
    {
      "id": "cac0f729-b48f-45d0-87e5-7cc4275c1d5d",
      "cell_type": "code",
      "source": "Q33rows = dataset.iloc[:,1:4]      \nprint(Q33rows)",
      "metadata": {
        "trusted": true
      },
      "outputs": [
        {
          "name": "stdout",
          "output_type": "stream",
          "text": "  Refund Marital-Status  Taxable-Income\n0    Yes         Single          125000\n1     No        Married          100000\n2     No         Single           70000\n3    Yes        Married          120000\n4     No       Divorced           95000\n5     No        Married           60000\n6    Yes       Divorced          220000\n7     No         Single           85000\n8     No        Married           75000\n9     No         Single           90000\n"
        }
      ],
      "execution_count": 5
    },
    {
      "id": "7bc82b77-a4a4-4bd3-a5f6-f25c407495f4",
      "cell_type": "code",
      "source": "dataset1=pd.read_csv('Iris.csv')\nfirst_five=dataset1.iloc[:5,:].values\nprint(first_five)",
      "metadata": {
        "trusted": true
      },
      "outputs": [
        {
          "name": "stdout",
          "output_type": "stream",
          "text": "[[1 5.1 3.5 1.4 0.2 'Iris-setosa']\n [2 4.9 3.0 1.4 0.2 'Iris-setosa']\n [3 4.7 3.2 1.3 0.2 'Iris-setosa']\n [4 4.6 3.1 1.5 0.2 'Iris-setosa']\n [5 5.0 3.6 1.4 0.2 'Iris-setosa']]\n"
        }
      ],
      "execution_count": 9
    },
    {
      "id": "ca6d2190-a087-47cc-802c-3c11df78bb7d",
      "cell_type": "code",
      "source": "dataset1_del_row = dataset1.drop(index = 4)\ndataset1_del_col = dataset1_del_row.drop(dataset1_del_row.columns[2],axis = 1)\ndataset1_del_col.head()",
      "metadata": {
        "trusted": true
      },
      "outputs": [
        {
          "execution_count": 10,
          "output_type": "execute_result",
          "data": {
            "text/plain": "   Id  SepalLengthCm  PetalLengthCm  PetalWidthCm      Species\n0   1            5.1            1.4           0.2  Iris-setosa\n1   2            4.9            1.4           0.2  Iris-setosa\n2   3            4.7            1.3           0.2  Iris-setosa\n3   4            4.6            1.5           0.2  Iris-setosa\n5   6            5.4            1.7           0.4  Iris-setosa",
            "text/html": "<div>\n<style scoped>\n    .dataframe tbody tr th:only-of-type {\n        vertical-align: middle;\n    }\n\n    .dataframe tbody tr th {\n        vertical-align: top;\n    }\n\n    .dataframe thead th {\n        text-align: right;\n    }\n</style>\n<table border=\"1\" class=\"dataframe\">\n  <thead>\n    <tr style=\"text-align: right;\">\n      <th></th>\n      <th>Id</th>\n      <th>SepalLengthCm</th>\n      <th>PetalLengthCm</th>\n      <th>PetalWidthCm</th>\n      <th>Species</th>\n    </tr>\n  </thead>\n  <tbody>\n    <tr>\n      <th>0</th>\n      <td>1</td>\n      <td>5.1</td>\n      <td>1.4</td>\n      <td>0.2</td>\n      <td>Iris-setosa</td>\n    </tr>\n    <tr>\n      <th>1</th>\n      <td>2</td>\n      <td>4.9</td>\n      <td>1.4</td>\n      <td>0.2</td>\n      <td>Iris-setosa</td>\n    </tr>\n    <tr>\n      <th>2</th>\n      <td>3</td>\n      <td>4.7</td>\n      <td>1.3</td>\n      <td>0.2</td>\n      <td>Iris-setosa</td>\n    </tr>\n    <tr>\n      <th>3</th>\n      <td>4</td>\n      <td>4.6</td>\n      <td>1.5</td>\n      <td>0.2</td>\n      <td>Iris-setosa</td>\n    </tr>\n    <tr>\n      <th>5</th>\n      <td>6</td>\n      <td>5.4</td>\n      <td>1.7</td>\n      <td>0.4</td>\n      <td>Iris-setosa</td>\n    </tr>\n  </tbody>\n</table>\n</div>"
          },
          "metadata": {}
        }
      ],
      "execution_count": 10
    },
    {
      "id": "c72d1b9c-f0d4-47ce-8930-bcfbdb3387d6",
      "cell_type": "code",
      "source": "data1 = {\n    'Employee_ID' : [101,102,103,104,105],\n    'Name' : ['Alice','Bob','Charlie','Diana','Edward'],\n    'Department' : ['HR','IT','IT','Marketing','Sales'],\n    'Age' : [29,34,41,28,38],\n    'Salary' : [50000,70000,65000,55000,60000],\n    'Years_of_Experience' : [4,8,10,3,12],\n    'Joining_Date' : ['2020-03-15','2017-07-19','2013-06-01','2021-02-10','2010-11-25'],\n    'Gender' : ['Female','Male','Male','Female','Male'],\n    'Bonus' : [5000,7000,6000,4500,5000],\n    'Rating' : [4.5,4.0,3.8,4.7,3.5]\n}\n\ndataset2= pd.DataFrame(data1)\ndataset2.to_csv('employees.csv')\nprint(dataset2)",
      "metadata": {
        "trusted": true
      },
      "outputs": [
        {
          "name": "stdout",
          "output_type": "stream",
          "text": "   Employee_ID     Name Department  Age  Salary  Years_of_Experience  \\\n0          101    Alice         HR   29   50000                    4   \n1          102      Bob         IT   34   70000                    8   \n2          103  Charlie         IT   41   65000                   10   \n3          104    Diana  Marketing   28   55000                    3   \n4          105   Edward      Sales   38   60000                   12   \n\n  Joining_Date  Gender  Bonus  Rating  \n0   2020-03-15  Female   5000     4.5  \n1   2017-07-19    Male   7000     4.0  \n2   2013-06-01    Male   6000     3.8  \n3   2021-02-10  Female   4500     4.7  \n4   2010-11-25    Male   5000     3.5  \n"
        }
      ],
      "execution_count": 11
    },
    {
      "id": "c163134d-3d53-4386-859c-1ef9880f734f",
      "cell_type": "code",
      "source": "print(dataset2.shape)",
      "metadata": {
        "trusted": true
      },
      "outputs": [
        {
          "name": "stdout",
          "output_type": "stream",
          "text": "(5, 10)\n"
        }
      ],
      "execution_count": 12
    },
    {
      "id": "ff36878e-fb8b-4243-bf2b-a51f8441e1fe",
      "cell_type": "code",
      "source": "print(dataset2.info())",
      "metadata": {
        "trusted": true
      },
      "outputs": [
        {
          "name": "stdout",
          "output_type": "stream",
          "text": "<class 'pandas.core.frame.DataFrame'>\nRangeIndex: 5 entries, 0 to 4\nData columns (total 10 columns):\n #   Column               Non-Null Count  Dtype  \n---  ------               --------------  -----  \n 0   Employee_ID          5 non-null      int64  \n 1   Name                 5 non-null      object \n 2   Department           5 non-null      object \n 3   Age                  5 non-null      int64  \n 4   Salary               5 non-null      int64  \n 5   Years_of_Experience  5 non-null      int64  \n 6   Joining_Date         5 non-null      object \n 7   Gender               5 non-null      object \n 8   Bonus                5 non-null      int64  \n 9   Rating               5 non-null      float64\ndtypes: float64(1), int64(5), object(4)\nmemory usage: 392.0+ bytes\nNone\n"
        }
      ],
      "execution_count": 13
    },
    {
      "id": "239796a8-4fad-4104-9861-87afc2a2dbd0",
      "cell_type": "code",
      "source": "print(dataset2.describe())",
      "metadata": {
        "trusted": true
      },
      "outputs": [
        {
          "name": "stdout",
          "output_type": "stream",
          "text": "       Employee_ID        Age       Salary  Years_of_Experience   Bonus  \\\ncount     5.000000   5.000000      5.00000             5.000000     5.0   \nmean    103.000000  34.000000  60000.00000             7.400000  5500.0   \nstd       1.581139   5.612486   7905.69415             3.847077  1000.0   \nmin     101.000000  28.000000  50000.00000             3.000000  4500.0   \n25%     102.000000  29.000000  55000.00000             4.000000  5000.0   \n50%     103.000000  34.000000  60000.00000             8.000000  5000.0   \n75%     104.000000  38.000000  65000.00000            10.000000  6000.0   \nmax     105.000000  41.000000  70000.00000            12.000000  7000.0   \n\n         Rating  \ncount  5.000000  \nmean   4.100000  \nstd    0.494975  \nmin    3.500000  \n25%    3.800000  \n50%    4.000000  \n75%    4.500000  \nmax    4.700000  \n"
        }
      ],
      "execution_count": 14
    },
    {
      "id": "e6f4e050-6d9a-41a1-b8be-ecc1361e7490",
      "cell_type": "code",
      "source": "print(dataset2.head())",
      "metadata": {
        "trusted": true
      },
      "outputs": [
        {
          "name": "stdout",
          "output_type": "stream",
          "text": "   Employee_ID     Name Department  Age  Salary  Years_of_Experience  \\\n0          101    Alice         HR   29   50000                    4   \n1          102      Bob         IT   34   70000                    8   \n2          103  Charlie         IT   41   65000                   10   \n3          104    Diana  Marketing   28   55000                    3   \n4          105   Edward      Sales   38   60000                   12   \n\n  Joining_Date  Gender  Bonus  Rating  \n0   2020-03-15  Female   5000     4.5  \n1   2017-07-19    Male   7000     4.0  \n2   2013-06-01    Male   6000     3.8  \n3   2021-02-10  Female   4500     4.7  \n4   2010-11-25    Male   5000     3.5  \n"
        }
      ],
      "execution_count": 15
    },
    {
      "id": "0418c82d-66db-41e4-bdd0-152ddd582891",
      "cell_type": "code",
      "source": "print(dataset2.tail(3))",
      "metadata": {
        "trusted": true
      },
      "outputs": [
        {
          "name": "stdout",
          "output_type": "stream",
          "text": "   Employee_ID     Name Department  Age  Salary  Years_of_Experience  \\\n2          103  Charlie         IT   41   65000                   10   \n3          104    Diana  Marketing   28   55000                    3   \n4          105   Edward      Sales   38   60000                   12   \n\n  Joining_Date  Gender  Bonus  Rating  \n2   2013-06-01    Male   6000     3.8  \n3   2021-02-10  Female   4500     4.7  \n4   2010-11-25    Male   5000     3.5  \n"
        }
      ],
      "execution_count": 16
    },
    {
      "id": "8ac2e1c0-d20d-4886-9122-35470b65bed0",
      "cell_type": "code",
      "source": "avg_sal = dataset2['Salary'].mean()\ntotal_bonus = dataset2['Bonus'].sum()\nmin_age = dataset2['Age'].min()\nmax_rate = dataset2['Rating'].max()\n\nprint(f'Average Salary of Employees : {avg_sal}')\nprint(f'Total Bonus paid to Employees : {total_bonus}')\nprint(f\"Youngest employee's age : {min_age}\")\nprint(f'Highest performance rating : {max_rate}')",
      "metadata": {
        "trusted": true
      },
      "outputs": [
        {
          "name": "stdout",
          "output_type": "stream",
          "text": "Average Salary of Employees : 60000.0\nTotal Bonus paid to Employees : 27500\nYoungest employee's age : 28\nHighest performance rating : 4.7\n"
        }
      ],
      "execution_count": 17
    },
    {
      "id": "911dab9d-f14e-43b9-bf31-b41f41804c98",
      "cell_type": "code",
      "source": "sorted_dataset= dataset2.sort_values(by = \"Salary\",ascending = False)\nprint(sorted_dataset)",
      "metadata": {
        "trusted": true
      },
      "outputs": [
        {
          "name": "stdout",
          "output_type": "stream",
          "text": "   Employee_ID     Name Department  Age  Salary  Years_of_Experience  \\\n1          102      Bob         IT   34   70000                    8   \n2          103  Charlie         IT   41   65000                   10   \n4          105   Edward      Sales   38   60000                   12   \n3          104    Diana  Marketing   28   55000                    3   \n0          101    Alice         HR   29   50000                    4   \n\n  Joining_Date  Gender  Bonus  Rating  \n1   2017-07-19    Male   7000     4.0  \n2   2013-06-01    Male   6000     3.8  \n4   2010-11-25    Male   5000     3.5  \n3   2021-02-10  Female   4500     4.7  \n0   2020-03-15  Female   5000     4.5  \n"
        }
      ],
      "execution_count": 18
    },
    {
      "id": "a0900ef9-ca97-4ca4-8c18-b883efdf9d66",
      "cell_type": "code",
      "source": "def performance(Rating):\n    if Rating >= 4.5:\n        return 'Excellent'\n    elif Rating >= 4.0 and Rating < 4.5:\n        return 'Good'\n    else:\n        return 'Average'\n    \ndataset2['Performance'] = dataset2['Rating'].apply(performance)\nprint(dataset2)",
      "metadata": {
        "trusted": true
      },
      "outputs": [
        {
          "name": "stdout",
          "output_type": "stream",
          "text": "   Employee_ID     Name Department  Age  Salary  Years_of_Experience  \\\n0          101    Alice         HR   29   50000                    4   \n1          102      Bob         IT   34   70000                    8   \n2          103  Charlie         IT   41   65000                   10   \n3          104    Diana  Marketing   28   55000                    3   \n4          105   Edward      Sales   38   60000                   12   \n\n  Joining_Date  Gender  Bonus  Rating Performance  \n0   2020-03-15  Female   5000     4.5   Excellent  \n1   2017-07-19    Male   7000     4.0        Good  \n2   2013-06-01    Male   6000     3.8     Average  \n3   2021-02-10  Female   4500     4.7   Excellent  \n4   2010-11-25    Male   5000     3.5     Average  \n"
        }
      ],
      "execution_count": 19
    },
    {
      "id": "847912c0-2ad5-419c-a1a4-ae69c49be1e3",
      "cell_type": "code",
      "source": "missing=dataset2.isnull().sum()\nprint(missing)",
      "metadata": {
        "trusted": true
      },
      "outputs": [
        {
          "name": "stdout",
          "output_type": "stream",
          "text": "Employee_ID            0\nName                   0\nDepartment             0\nAge                    0\nSalary                 0\nYears_of_Experience    0\nJoining_Date           0\nGender                 0\nBonus                  0\nRating                 0\nPerformance            0\ndtype: int64\n"
        }
      ],
      "execution_count": 20
    },
    {
      "id": "39accaef-8769-45ce-a034-bdd2bd98b3c1",
      "cell_type": "code",
      "source": "dataset2.rename(columns = {'Employee_ID' : 'ID'},inplace = True)\nprint(dataset2)",
      "metadata": {
        "trusted": true
      },
      "outputs": [
        {
          "name": "stdout",
          "output_type": "stream",
          "text": "    ID     Name Department  Age  Salary  Years_of_Experience Joining_Date  \\\n0  101    Alice         HR   29   50000                    4   2020-03-15   \n1  102      Bob         IT   34   70000                    8   2017-07-19   \n2  103  Charlie         IT   41   65000                   10   2013-06-01   \n3  104    Diana  Marketing   28   55000                    3   2021-02-10   \n4  105   Edward      Sales   38   60000                   12   2010-11-25   \n\n   Gender  Bonus  Rating Performance  \n0  Female   5000     4.5   Excellent  \n1    Male   7000     4.0        Good  \n2    Male   6000     3.8     Average  \n3  Female   4500     4.7   Excellent  \n4    Male   5000     3.5     Average  \n"
        }
      ],
      "execution_count": 21
    },
    {
      "id": "11542325-1e2a-464c-8da9-a73a43bc5bf1",
      "cell_type": "code",
      "source": "\nexperience = dataset2[(dataset2['Years_of_Experience'] > 5)]\nprint(experience)",
      "metadata": {
        "trusted": true
      },
      "outputs": [
        {
          "name": "stdout",
          "output_type": "stream",
          "text": "    ID     Name Department  Age  Salary  Years_of_Experience Joining_Date  \\\n1  102      Bob         IT   34   70000                    8   2017-07-19   \n2  103  Charlie         IT   41   65000                   10   2013-06-01   \n4  105   Edward      Sales   38   60000                   12   2010-11-25   \n\n  Gender  Bonus  Rating Performance  \n1   Male   7000     4.0        Good  \n2   Male   6000     3.8     Average  \n4   Male   5000     3.5     Average  \n"
        }
      ],
      "execution_count": 22
    },
    {
      "id": "de02e7f1-60b4-4dcf-9863-abbf4376c82e",
      "cell_type": "code",
      "source": "dept = dataset2[(dataset2['Department'] == 'IT')]\nprint(dept)",
      "metadata": {
        "trusted": true
      },
      "outputs": [
        {
          "name": "stdout",
          "output_type": "stream",
          "text": "    ID     Name Department  Age  Salary  Years_of_Experience Joining_Date  \\\n1  102      Bob         IT   34   70000                    8   2017-07-19   \n2  103  Charlie         IT   41   65000                   10   2013-06-01   \n\n  Gender  Bonus  Rating Performance  \n1   Male   7000     4.0        Good  \n2   Male   6000     3.8     Average  \n"
        }
      ],
      "execution_count": 23
    },
    {
      "id": "dbf904ad-a31c-4b2c-9d10-d4d18869bab9",
      "cell_type": "code",
      "source": "dataset2['Tax'] = dataset2['Salary'] * 0.10\nprint(dataset2)",
      "metadata": {
        "trusted": true
      },
      "outputs": [
        {
          "name": "stdout",
          "output_type": "stream",
          "text": "    ID     Name Department  Age  Salary  Years_of_Experience Joining_Date  \\\n0  101    Alice         HR   29   50000                    4   2020-03-15   \n1  102      Bob         IT   34   70000                    8   2017-07-19   \n2  103  Charlie         IT   41   65000                   10   2013-06-01   \n3  104    Diana  Marketing   28   55000                    3   2021-02-10   \n4  105   Edward      Sales   38   60000                   12   2010-11-25   \n\n   Gender  Bonus  Rating Performance     Tax  \n0  Female   5000     4.5   Excellent  5000.0  \n1    Male   7000     4.0        Good  7000.0  \n2    Male   6000     3.8     Average  6500.0  \n3  Female   4500     4.7   Excellent  5500.0  \n4    Male   5000     3.5     Average  6000.0  \n"
        }
      ],
      "execution_count": 24
    },
    {
      "id": "5d701dbc-2872-4f4c-b5cd-5453617d9ab3",
      "cell_type": "code",
      "source": "dataset2.to_csv('employees_new.csv',index = False)\nprint(dataset2)",
      "metadata": {
        "trusted": true
      },
      "outputs": [
        {
          "name": "stdout",
          "output_type": "stream",
          "text": "    ID     Name Department  Age  Salary  Years_of_Experience Joining_Date  \\\n0  101    Alice         HR   29   50000                    4   2020-03-15   \n1  102      Bob         IT   34   70000                    8   2017-07-19   \n2  103  Charlie         IT   41   65000                   10   2013-06-01   \n3  104    Diana  Marketing   28   55000                    3   2021-02-10   \n4  105   Edward      Sales   38   60000                   12   2010-11-25   \n\n   Gender  Bonus  Rating Performance     Tax  \n0  Female   5000     4.5   Excellent  5000.0  \n1    Male   7000     4.0        Good  7000.0  \n2    Male   6000     3.8     Average  6500.0  \n3  Female   4500     4.7   Excellent  5500.0  \n4    Male   5000     3.5     Average  6000.0  \n"
        }
      ],
      "execution_count": 25
    },
    {
      "id": "25e408b2-c7a7-4fcf-8c98-3db9b40fb65e",
      "cell_type": "code",
      "source": "",
      "metadata": {
        "trusted": true
      },
      "outputs": [],
      "execution_count": null
    }
  ]
}