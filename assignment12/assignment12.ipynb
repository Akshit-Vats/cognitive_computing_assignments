{
 "cells": [
  {
   "cell_type": "code",
   "execution_count": null,
   "id": "aba14ded-8fec-4890-adb5-e4d268ba03cf",
   "metadata": {},
   "outputs": [],
   "source": [
    "!git clone https://github.com/gunthercox/ChatterBot.git\n",
    "%cd ChatterBot\n",
    "!pip install -e .\n",
    "!pip install chatterbot\n",
    "from chatterbot import ChatBot\n",
    "from chatterbot.trainers import ListTrainer\n",
    "\n",
    "print(\"ChatterBot is working on Colab!\")"
   ]
  },
  {
   "cell_type": "code",
   "execution_count": null,
   "id": "ce940651-cf15-43d0-b515-de682d5b1cb0",
   "metadata": {},
   "outputs": [],
   "source": [
    "trainer = ListTrainer(healthify)\n",
    "conversations = [\n",
    "    'Hi',\n",
    "    'Hello! I am HealthBot. How can I assist you today?',\n",
    "    'Hello',\n",
    "    'Hi! Do you have a health-related question?',\n",
    "    'I have a headache',\n",
    "    'You should rest, stay hydrated, and take a mild pain reliever if needed.',\n",
    "    'What should I do if I have a fever?',\n",
    "    'Drink plenty of fluids and rest. If the fever persists, please consult a doctor.',\n",
    "    'I feel dizzy',\n",
    "    'Sit down, breathe deeply, and drink water. If it continues, seek medical help.',\n",
    "    'What should I eat for a cold?',\n",
    "    'Warm fluids, soups, citrus fruits, and light meals help during a cold.',\n",
    "    'How to stay healthy?',\n",
    "    'Eat balanced meals, exercise regularly, stay hydrated, and get enough sleep.',\n",
    "    'What should I do in case of a cut?',\n",
    "    'Clean the wound with water, apply antiseptic, and cover it with a clean bandage.',\n",
    "    'How much water should I drink daily?',\n",
    "    'Generally, 2 to 3 liters per day is recommended, but it varies based on your activity.',\n",
    "    'Thank you',\n",
    "    'You’re welcome! Take care.',\n",
    "    'Bye',\n",
    "    'Goodbye! Stay healthy.'\n",
    "]"
   ]
  },
  {
   "cell_type": "code",
   "execution_count": null,
   "id": "3aa99a3b-c9cc-42aa-b42c-52e904df7531",
   "metadata": {},
   "outputs": [],
   "source": [
    "print(\"Ask something to Healthify (type 'exit' to end):\\n\")\n",
    "while True:\n",
    "    user_input = input(\"You: \")\n",
    "    if user_input.lower() == 'exit':\n",
    "        print(\"Healthify: Bye! Stay healthy.\")\n",
    "        break\n",
    "    response = healthify.get_response(user_input)\n",
    "    print(f\"Healthify: {response}\")"
   ]
  },
  {
   "cell_type": "code",
   "execution_count": null,
   "id": "2d93652e-6628-4ce4-a18c-27778039ac2f",
   "metadata": {},
   "outputs": [],
   "source": [
    "!pip install textblob\n",
    "import nltk\n",
    "nltk.download('punkt')\n",
    "from textblob import TextBlob\n",
    "\n",
    "print(\"Ask something to Healthify (type 'exit' to end):\\n\")\n",
    "while True:\n",
    "    user_input = input(\"You: \")\n",
    "    if user_input.lower() == 'exit':\n",
    "        print(\"Healthify: Bye! Stay healthy.\")\n",
    "        break\n",
    "\n",
    "    # Analyze sentiment\n",
    "    blob = TextBlob(user_input)\n",
    "    polarity = blob.sentiment.polarity\n",
    "\n",
    "    # Add empathetic response based on sentiment\n",
    "    if polarity < -0.3:\n",
    "        prefix = \"I'm sorry you're feeling that way. \"\n",
    "    elif polarity > 0.3:\n",
    "        prefix = \"That's great to hear! \"\n",
    "    else:\n",
    "        prefix = \"\"\n",
    "\n",
    "    # Get chatbot reply\n",
    "    response = healthify.get_response(user_input)"
   ]
  }
 ],
 "metadata": {
  "kernelspec": {
   "display_name": "Python [conda env:base] *",
   "language": "python",
   "name": "conda-base-py"
  },
  "language_info": {
   "codemirror_mode": {
    "name": "ipython",
    "version": 3
   },
   "file_extension": ".py",
   "mimetype": "text/x-python",
   "name": "python",
   "nbconvert_exporter": "python",
   "pygments_lexer": "ipython3",
   "version": "3.12.7"
  }
 },
 "nbformat": 4,
 "nbformat_minor": 5
}
