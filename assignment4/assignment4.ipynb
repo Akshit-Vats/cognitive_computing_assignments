{
  "metadata": {
    "kernelspec": {
      "name": "python",
      "display_name": "Python (Pyodide)",
      "language": "python"
    },
    "language_info": {
      "codemirror_mode": {
        "name": "python",
        "version": 3
      },
      "file_extension": ".py",
      "mimetype": "text/x-python",
      "name": "python",
      "nbconvert_exporter": "python",
      "pygments_lexer": "ipython3",
      "version": "3.8"
    }
  },
  "nbformat_minor": 5,
  "nbformat": 4,
  "cells": [
    {
      "id": "6c365823-c394-4f45-912d-f2d24de41118",
      "cell_type": "code",
      "source": "import numpy as np\nnumpy_arr=np.array([2,3,5,7,11])\nprint(numpy_arr)\nadd=numpy_arr+2\nprint(add)\nmulti=numpy_arr*3\nprint(multi)\ndiv=numpy_arr/2\nprint(div)",
      "metadata": {
        "trusted": true
      },
      "outputs": [
        {
          "name": "stdout",
          "output_type": "stream",
          "text": "[ 2  3  5  7 11]\n[ 4  5  7  9 13]\n[ 6  9 15 21 33]\n[1.  1.5 2.5 3.5 5.5]\n"
        }
      ],
      "execution_count": 1
    },
    {
      "id": "35fe2a72-b0b9-47cb-9e6a-38b3140231ce",
      "cell_type": "code",
      "source": "arr=np.array([1,2,3,6,4,5])\narr_rev=arr[::-1]\nprint(arr_rev)",
      "metadata": {
        "trusted": true
      },
      "outputs": [
        {
          "name": "stdout",
          "output_type": "stream",
          "text": "[5 4 6 3 2 1]\n"
        }
      ],
      "execution_count": 2
    },
    {
      "id": "cb965e10-be01-4221-9bc0-c33db1ca404a",
      "cell_type": "code",
      "source": "def most_frequent(arr):\n    values, counts = np.unique(arr, return_counts=True)\n    max_count = np.max(counts)\n    most_frequent_value = values[np.argmax(counts)]\n    indices = np.where(arr == most_frequent_value)[0]\n    return most_frequent_value, indices\n\nx = np.array([1, 2, 3, 4, 5, 1, 2, 1, 1, 1])\ny = np.array([1, 1, 1, 2, 3, 4, 2, 4, 3, 3])\n\nmf_x, indices_x = most_frequent(x)\nmf_y, indices_y = most_frequent(y)\n\nprint(f'Most frequent value in x: {mf_x}, Indices: {indices_x}')\nprint(f'Most frequent value in y: {mf_y}, Indices: {indices_y}')",
      "metadata": {
        "trusted": true
      },
      "outputs": [
        {
          "name": "stdout",
          "output_type": "stream",
          "text": "Most frequent value in x: 1, Indices: [0 5 7 8 9]\nMost frequent value in y: 1, Indices: [0 1 2]\n"
        }
      ],
      "execution_count": 3
    },
    {
      "id": "ad973afa-76a7-4433-8d34-e16c3c2e4d8a",
      "cell_type": "code",
      "source": "arr = np.array([[10, 20, 30], [40, 50, 60], [70, 80, 90]])\nprint('Q3a:', arr[0, 1])  # Output: 20\nprint('Q3b:', arr[2, 0])  # Output: 70",
      "metadata": {
        "trusted": true
      },
      "outputs": [
        {
          "name": "stdout",
          "output_type": "stream",
          "text": "Q3a: 20\nQ3b: 70\n"
        }
      ],
      "execution_count": 4
    },
    {
      "id": "feb475f5-4a18-460b-b391-9ec8dc693395",
      "cell_type": "code",
      "source": "akshit=np.linspace(10, 100, 25)\nprint(akshit)\nprint(f'Array: {akshit}')\nprint(f'Dimensions: {akshit.ndim}')\nprint(f'Shape: {akshit.shape}')\nprint(f'Total elements: {akshit.size}')\nprint(f'Data type: {akshit.dtype}')\nprint(f'Total bytes: {akshit.nbytes}')\nprint('Transpose of the array :',akshit.reshape(len(akshit),1))\nprint('Transpose of the array :',akshit.T)",
      "metadata": {
        "trusted": true
      },
      "outputs": [
        {
          "name": "stdout",
          "output_type": "stream",
          "text": "[ 10.    13.75  17.5   21.25  25.    28.75  32.5   36.25  40.    43.75\n  47.5   51.25  55.    58.75  62.5   66.25  70.    73.75  77.5   81.25\n  85.    88.75  92.5   96.25 100.  ]\nArray: [ 10.    13.75  17.5   21.25  25.    28.75  32.5   36.25  40.    43.75\n  47.5   51.25  55.    58.75  62.5   66.25  70.    73.75  77.5   81.25\n  85.    88.75  92.5   96.25 100.  ]\nDimensions: 1\nShape: (25,)\nTotal elements: 25\nData type: float64\nTotal bytes: 200\nTranspose of the array : [[ 10.  ]\n [ 13.75]\n [ 17.5 ]\n [ 21.25]\n [ 25.  ]\n [ 28.75]\n [ 32.5 ]\n [ 36.25]\n [ 40.  ]\n [ 43.75]\n [ 47.5 ]\n [ 51.25]\n [ 55.  ]\n [ 58.75]\n [ 62.5 ]\n [ 66.25]\n [ 70.  ]\n [ 73.75]\n [ 77.5 ]\n [ 81.25]\n [ 85.  ]\n [ 88.75]\n [ 92.5 ]\n [ 96.25]\n [100.  ]]\nTranspose of the array : [ 10.    13.75  17.5   21.25  25.    28.75  32.5   36.25  40.    43.75\n  47.5   51.25  55.    58.75  62.5   66.25  70.    73.75  77.5   81.25\n  85.    88.75  92.5   96.25 100.  ]\n"
        }
      ],
      "execution_count": 5
    },
    {
      "id": "5b59f0bb-9d9d-477c-8f63-3dfb75450411",
      "cell_type": "code",
      "source": "ucs420_akshit = np.array([[10, 20, 30, 40], [50, 60, 70, 80], [90, 15, 20, 35]])\nprint(\"Mean:\", np.mean(ucs420_akshit))\nprint(\"Median:\", np.median(ucs420_akshit))\nprint(\"Max:\", np.max(ucs420_akshit))\nprint(\"Min:\", np.min(ucs420_akshit))\nprint(\"Unique Elements:\", np.unique(ucs420_akshit))\nreshaped_ucs420_akshit = ucs420_akshit.reshape(4, 3)\nprint(\"Reshaped:\\n\", reshaped_ucs420_akshit)\nresized_ucs420_akshit = np.resize(ucs420_akshit, (2, 3))\nprint(\"Resized:\\n\", resized_ucs420_akshit)",
      "metadata": {
        "trusted": true
      },
      "outputs": [
        {
          "name": "stdout",
          "output_type": "stream",
          "text": "Mean: 43.333333333333336\nMedian: 37.5\nMax: 90\nMin: 10\nUnique Elements: [10 15 20 30 35 40 50 60 70 80 90]\nReshaped:\n [[10 20 30]\n [40 50 60]\n [70 80 90]\n [15 20 35]]\nResized:\n [[10 20 30]\n [40 50 60]]\n"
        }
      ],
      "execution_count": 6
    },
    {
      "id": "aa6f1da9-e04a-4752-b0b8-56ae561a6405",
      "cell_type": "code",
      "source": "",
      "metadata": {
        "trusted": true
      },
      "outputs": [],
      "execution_count": null
    }
  ]
}