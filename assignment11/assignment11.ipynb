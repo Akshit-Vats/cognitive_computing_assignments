{
 "cells": [
  {
   "cell_type": "markdown",
   "id": "e70df6e5-2d0f-4e90-b71a-22eca47a06d7",
   "metadata": {},
   "source": [
    "## Q1 "
   ]
  },
  {
   "cell_type": "code",
   "execution_count": 3,
   "id": "fd3a3d18-1a16-4e34-b4d5-de374699ec35",
   "metadata": {},
   "outputs": [
    {
     "name": "stdout",
     "output_type": "stream",
     "text": [
      "Requirement already satisfied: pytesseract in c:\\programdata\\anaconda3\\lib\\site-packages (0.3.13)\n",
      "Requirement already satisfied: pillow in c:\\programdata\\anaconda3\\lib\\site-packages (10.4.0)\n",
      "Requirement already satisfied: pyttsx3 in c:\\programdata\\anaconda3\\lib\\site-packages (2.98)\n",
      "Requirement already satisfied: packaging>=21.3 in c:\\programdata\\anaconda3\\lib\\site-packages (from pytesseract) (24.1)\n",
      "Requirement already satisfied: comtypes in c:\\programdata\\anaconda3\\lib\\site-packages (from pyttsx3) (1.4.11)\n",
      "Requirement already satisfied: pypiwin32 in c:\\programdata\\anaconda3\\lib\\site-packages (from pyttsx3) (223)\n",
      "Requirement already satisfied: pywin32 in c:\\programdata\\anaconda3\\lib\\site-packages (from pyttsx3) (305.1)\n",
      "Note: you may need to restart the kernel to use updated packages.\n"
     ]
    }
   ],
   "source": [
    "pip install pytesseract pillow pyttsx3\n"
   ]
  },
  {
   "cell_type": "code",
   "execution_count": null,
   "id": "f80e4fb6-a2ac-4ed6-b5f9-ca380c9ff87f",
   "metadata": {},
   "outputs": [],
   "source": [
    "import pytesseract\n",
    "from PIL import Image\n",
    "import pyttsx3\n",
    "import re\n",
    "\n",
    "# Load image\n",
    "image_path = \"C:/Users/Admin/Desktop/med_label.jpg\"  # <-- Replace with your image file\n",
    "image = Image.open(image_path)\n",
    "\n",
    "# OCR: extract text from image\n",
    "text = pytesseract.image_to_string(image)\n",
    "print(\"Extracted Text:\\n\", text)\n",
    "\n",
    "# Extract key info using simple regex\n",
    "name = text.split('\\n')[0]  # First line as medicine name\n",
    "dosage = re.search(r'\\d+\\s?(mg|ml|g)', text)\n",
    "expiry = re.search(r'Exp[\\w\\s:]*\\d{1,2}[\\/\\-]\\d{2,4}', text, re.IGNORECASE)\n",
    "\n",
    "# Format result\n",
    "output = f\"This is {name.strip()}.\"\n",
    "if dosage:\n",
    "    output += f\" Dosage: {dosage.group()}.\"\n",
    "if expiry:\n",
    "    output += f\" {expiry.group()}.\"\n",
    "\n",
    "print(\"\\nSpeaking:\\n\", output)\n",
    "\n",
    "# Speak it aloud\n",
    "engine = pyttsx3.init()\n",
    "engine.say(output)\n",
    "engine.runAndWait()\n"
   ]
  },
  {
   "cell_type": "markdown",
   "id": "1a952032-a658-40f6-8655-c41c93cf0489",
   "metadata": {},
   "source": [
    "## Q2 "
   ]
  },
  {
   "cell_type": "code",
   "execution_count": null,
   "id": "161c1ba1-45e8-4b80-9b93-0c24630b0f87",
   "metadata": {},
   "outputs": [],
   "source": [
    "pip install opencv-python deepface pyttsx3"
   ]
  },
  {
   "cell_type": "code",
   "execution_count": null,
   "id": "dc03f2c0-222a-4c5c-8c0e-983b555463c9",
   "metadata": {},
   "outputs": [],
   "source": [
    "import cv2\n",
    "from deepface import DeepFace\n",
    "import pyttsx3\n",
    "\n",
    "# Initialize webcam\n",
    "cap = cv2.VideoCapture(0)\n",
    "\n",
    "# Initialize TTS engine\n",
    "engine = pyttsx3.init()\n",
    "\n",
    "print(\"😊 EmotiBot is running... Press 'q' to quit.\")\n",
    "\n",
    "while True:\n",
    "    ret, frame = cap.read()\n",
    "    if not ret:\n",
    "        break\n",
    "\n",
    "    try:\n",
    "        # Analyze facial expression\n",
    "        result = DeepFace.analyze(frame, actions=['emotion'], enforce_detection=False)\n",
    "        emotion = result[0]['dominant_emotion']\n",
    "\n",
    "        # Show on screen\n",
    "        cv2.putText(frame, f\"Emotion: {emotion}\", (20, 50), cv2.FONT_HERSHEY_SIMPLEX, \n",
    "                    1, (0, 255, 0), 2, cv2.LINE_AA)\n",
    "        cv2.imshow(\"Emotion Detector\", frame)\n",
    "\n",
    "        # Speak response\n",
    "        if emotion == 'happy':\n",
    "            engine.say(\"You look happy today! Keep smiling!\")\n",
    "        elif emotion == 'sad':\n",
    "            engine.say(\"I'm here if you need someone to talk to.\")\n",
    "        elif emotion == 'angry':\n",
    "            engine.say(\"Take a deep breath. It's going to be okay.\")\n",
    "        elif emotion == 'surprise':\n",
    "            engine.say(\"Wow! You look surprised.\")\n",
    "        elif emotion == 'neutral':\n",
    "            engine.say(\"You look calm and composed.\")\n",
    "        else:\n",
    "            engine.say(f\"I see you're feeling {emotion}.\")\n",
    "\n",
    "        engine.runAndWait()\n",
    "\n",
    "    except Exception as e:\n",
    "        print(\"Could not detect emotion:\", e)\n",
    "\n",
    "    # Quit on pressing 'q'\n",
    "    if cv2.waitKey(1) & 0xFF == ord('q'):\n",
    "        break\n",
    "\n",
    "# Release resources\n",
    "cap.release()\n",
    "cv2.destroyAllWindows()\n"
   ]
  }
 ],
 "metadata": {
  "kernelspec": {
   "display_name": "Python [conda env:base] *",
   "language": "python",
   "name": "conda-base-py"
  },
  "language_info": {
   "codemirror_mode": {
    "name": "ipython",
    "version": 3
   },
   "file_extension": ".py",
   "mimetype": "text/x-python",
   "name": "python",
   "nbconvert_exporter": "python",
   "pygments_lexer": "ipython3",
   "version": "3.12.7"
  }
 },
 "nbformat": 4,
 "nbformat_minor": 5
}
